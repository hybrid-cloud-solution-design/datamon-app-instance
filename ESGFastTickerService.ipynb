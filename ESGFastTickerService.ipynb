{
 "cells": [
  {
   "cell_type": "code",
   "execution_count": 1,
   "id": "46f25ef6",
   "metadata": {
    "id": "46f25ef6",
    "tags": []
   },
   "outputs": [],
   "source": [
    "import json\n",
    "import pandas as pd\n",
    "import numpy as np\n",
    "import os\n",
    "\n",
    "from minio import Minio\n",
    "from minio.error import S3Error"
   ]
  },
  {
   "cell_type": "code",
   "execution_count": 2,
   "id": "320cb67c-6b98-4e93-a24c-d6c492bae13d",
   "metadata": {
    "id": "320cb67c-6b98-4e93-a24c-d6c492bae13d",
    "tags": []
   },
   "outputs": [],
   "source": [
    "# COS_API_KEY_ID = os.environ.get(\"COS_API_KEY_ID\", \"none\")\n",
    "COS_ENDPOINT = os.environ.get(\"COS_ENDPOINT\", \"ibm-lh-lakehouse-minio-svc.cpd.svc.cluster.local:9000\")\n",
    "COS_ACCESS_KEY = os.environ.get(\"COS_ACCESS_KEY\", \"none\")\n",
    "COS_SECRET_KEY = os.environ.get(\"COS_SECRET_KEY\", \"none\")\n",
    "\n",
    "\n",
    "\n",
    "# print(\"key: \" + COS_API_KEY_ID)\n",
    "# if COS_API_KEY_ID == \"none\":\n",
    "#     print(\"No COS API KEY!!\")\n",
    "#     #for name, value in os.environ.items():\n",
    "#     #    print(\"{0}: {1}\".format(name, value))"
   ]
  },
  {
   "cell_type": "code",
   "execution_count": 3,
   "id": "6081d03a-87f2-48b5-a6ac-901410832839",
   "metadata": {
    "id": "6081d03a-87f2-48b5-a6ac-901410832839",
    "tags": []
   },
   "outputs": [],
   "source": [
    "# ibm s3\n",
    "# import ibm_boto3\n",
    "# from ibm_botocore.client import Config, ClientError"
   ]
  },
  {
   "cell_type": "code",
   "execution_count": 4,
   "id": "8898e5a7",
   "metadata": {
    "id": "8898e5a7",
    "tags": [
     "parameters"
    ]
   },
   "outputs": [],
   "source": [
    "# Parameters\n",
    "\n",
    "description=\"Return all the ESG dimensions for a single portfolio ticker\"\n",
    "\n",
    "output=\"output.json\"\n",
    "\n",
    "input={\"ticker\": \"ABNP\"}\n",
    "\n",
    "results={\"Ticker\": \"ABNP\",\n",
    "         \"ISIN\": \"OTOY0BBKWAA1\",\n",
    "         \"Industry\": \"Homebuilding and construction supplies\",\n",
    "         \"ESG_properties\": [\n",
    "             {\"C02\": 0.59},\n",
    "             {\"TotalWaste\": 0.86}, \n",
    "             {\"EnvProducts\": None}, \n",
    "             {\"EnvRND\": 0.87}, \n",
    "             {\"WaterUse\": 0.77}, \n",
    "             {\"EnergyUse\": 0.61}, \n",
    "             {\"PolicyHumanRights\": 0.84}, \n",
    "             {\"PolicyResponsibleMarketing\": None}, \n",
    "             {\"ProductQualityMonitoring\": None}, \n",
    "             {\"PolicyDataPrivacy\": 0.45}, \n",
    "             {\"WomenEmployees\": 0.33}, \n",
    "             {\"AvgTrainingHours\": 0.97}, \n",
    "             {\"TradeUnionRep\": 0.48}, \n",
    "             {\"LostDays\": 0.51}]}"
   ]
  },
  {
   "cell_type": "markdown",
   "id": "6bea5885",
   "metadata": {
    "id": "6bea5885"
   },
   "source": [
    "Test curl post:\n",
    "\n",
    "    curl -X POST https://datamon.15nwk2ygtk89.eu-de.codeengine.appdomain.cloud/api/ESGFastTickerService -H 'Content-Type: application/json' -d '{\"portfolio\": \"ABNF\"}'"
   ]
  },
  {
   "cell_type": "code",
   "execution_count": 5,
   "id": "bb282395-6094-41de-8b68-5a4c0c6bc18f",
   "metadata": {
    "id": "bb282395-6094-41de-8b68-5a4c0c6bc18f",
    "tags": []
   },
   "outputs": [
    {
     "name": "stdout",
     "output_type": "stream",
     "text": [
      "Retrieving item from bucket: delivery, key: provider_a/ESG-consolidated.csv\n"
     ]
    }
   ],
   "source": [
    "# Constants for IBM COS values\n",
    "# COS_ENDPOINT = \"https://s3.us-east.cloud-object-storage.appdomain.cloud\" # Current list avaiable at https://control.cloud-object-storage.cloud.ibm.com/v2/endpoints\n",
    "#COS_API_KEY_ID = # <api-key> eg \"W00YixxxxxxxxxxMB-odB-2ySfTrFBIQQWanc--P3byk\"\n",
    "# COS_INSTANCE_CRN = \"crn:v1:bluemix:public:cloud-object-storage:global:a/b71ac2564ef0b98f1032d189795994dc:f7e4281d-a7f2-4923-8e6b-07f99ac93bbd::\" # <service-instance-id> eg \"crn:v1:bluemix:public:cloud-object-storage:global:a/3bf0d9003xxxxxxxxxx1c3e97696b71c:d6f04d83-6c4f-4a62-a165-696756d63903::\"\n",
    "\n",
    "# Create client \n",
    "# s3_client = ibm_boto3.client(\"s3\",\n",
    "#     ibm_api_key_id=COS_API_KEY_ID,\n",
    "#     ibm_service_instance_id=COS_INSTANCE_CRN,\n",
    "#     config=Config(signature_version=\"oauth\"),\n",
    "#     endpoint_url=COS_ENDPOINT\n",
    "# )\n",
    "\n",
    "# COS_ENDPOINT='ibm-lh-lakehouse-minio-svc.cpd.svc.cluster.local:9000'\n",
    "\n",
    "minio_client = Minio(\n",
    "    endpoint=COS_ENDPOINT,\n",
    "    secure=False,\n",
    "    access_key=COS_ACCESS_KEY,\n",
    "    secret_key=COS_SECRET_KEY\n",
    ")\n",
    "\n",
    "\n",
    "file_name = \"provider_a/ESG-consolidated.csv\"\n",
    "bucket = \"delivery\"\n",
    "\n",
    "\n",
    "\n",
    "\n",
    "print(\"Retrieving item from bucket: {0}, key: {1}\".format(bucket, file_name))\n",
    "try:\n",
    "    minio_client.fget_object(bucket, file_name,file_name)\n",
    "except S3Error as e:\n",
    "    e\n"
   ]
  },
  {
   "cell_type": "code",
   "execution_count": 6,
   "id": "fa949bca",
   "metadata": {
    "id": "fa949bca",
    "tags": []
   },
   "outputs": [
    {
     "data": {
      "text/html": [
       "<div>\n",
       "<style scoped>\n",
       "    .dataframe tbody tr th:only-of-type {\n",
       "        vertical-align: middle;\n",
       "    }\n",
       "\n",
       "    .dataframe tbody tr th {\n",
       "        vertical-align: top;\n",
       "    }\n",
       "\n",
       "    .dataframe thead th {\n",
       "        text-align: right;\n",
       "    }\n",
       "</style>\n",
       "<table border=\"1\" class=\"dataframe\">\n",
       "  <thead>\n",
       "    <tr style=\"text-align: right;\">\n",
       "      <th></th>\n",
       "      <th>Ticker</th>\n",
       "      <th>Isin</th>\n",
       "      <th>Industry</th>\n",
       "      <th>Co2</th>\n",
       "      <th>Totalwaste</th>\n",
       "      <th>Envproducts</th>\n",
       "      <th>Envrnd</th>\n",
       "      <th>Wateruse</th>\n",
       "      <th>Energyuse</th>\n",
       "      <th>Policyhumanrights</th>\n",
       "      <th>Policyresponsiblemarketing</th>\n",
       "      <th>Productqualitymonitoring</th>\n",
       "      <th>Policydataprivacy</th>\n",
       "      <th>Womenemployees</th>\n",
       "      <th>Avgtraininghours</th>\n",
       "      <th>Tradeunionrep</th>\n",
       "      <th>Lostdays</th>\n",
       "    </tr>\n",
       "  </thead>\n",
       "  <tbody>\n",
       "    <tr>\n",
       "      <th>0</th>\n",
       "      <td>JSJC</td>\n",
       "      <td>YACEFSEQB3A4</td>\n",
       "      <td>Office equipment</td>\n",
       "      <td>0.95</td>\n",
       "      <td>NaN</td>\n",
       "      <td>NaN</td>\n",
       "      <td>NaN</td>\n",
       "      <td>0.78</td>\n",
       "      <td>0.89</td>\n",
       "      <td>0.22</td>\n",
       "      <td>NaN</td>\n",
       "      <td>NaN</td>\n",
       "      <td>0.19</td>\n",
       "      <td>0.53</td>\n",
       "      <td>0.18</td>\n",
       "      <td>0.54</td>\n",
       "      <td>0.22</td>\n",
       "    </tr>\n",
       "    <tr>\n",
       "      <th>1</th>\n",
       "      <td>JSKE</td>\n",
       "      <td>QL6UOE2EJCJ9</td>\n",
       "      <td>Water and related utilities</td>\n",
       "      <td>NaN</td>\n",
       "      <td>0.17</td>\n",
       "      <td>0.99</td>\n",
       "      <td>0.10</td>\n",
       "      <td>0.07</td>\n",
       "      <td>NaN</td>\n",
       "      <td>0.74</td>\n",
       "      <td>0.18</td>\n",
       "      <td>0.28</td>\n",
       "      <td>0.92</td>\n",
       "      <td>0.78</td>\n",
       "      <td>0.74</td>\n",
       "      <td>0.43</td>\n",
       "      <td>0.69</td>\n",
       "    </tr>\n",
       "    <tr>\n",
       "      <th>2</th>\n",
       "      <td>JSKK</td>\n",
       "      <td>EGJL1NEBFRT2</td>\n",
       "      <td>Freight and logistics services</td>\n",
       "      <td>0.18</td>\n",
       "      <td>0.85</td>\n",
       "      <td>NaN</td>\n",
       "      <td>0.16</td>\n",
       "      <td>0.75</td>\n",
       "      <td>0.37</td>\n",
       "      <td>NaN</td>\n",
       "      <td>0.53</td>\n",
       "      <td>0.81</td>\n",
       "      <td>0.55</td>\n",
       "      <td>0.64</td>\n",
       "      <td>0.25</td>\n",
       "      <td>0.62</td>\n",
       "      <td>0.91</td>\n",
       "    </tr>\n",
       "    <tr>\n",
       "      <th>3</th>\n",
       "      <td>JSMD</td>\n",
       "      <td>OM9BJUQENP52</td>\n",
       "      <td>Leisure products</td>\n",
       "      <td>0.70</td>\n",
       "      <td>NaN</td>\n",
       "      <td>0.02</td>\n",
       "      <td>0.45</td>\n",
       "      <td>0.57</td>\n",
       "      <td>NaN</td>\n",
       "      <td>0.13</td>\n",
       "      <td>NaN</td>\n",
       "      <td>0.33</td>\n",
       "      <td>0.79</td>\n",
       "      <td>0.30</td>\n",
       "      <td>0.25</td>\n",
       "      <td>0.51</td>\n",
       "      <td>0.18</td>\n",
       "    </tr>\n",
       "    <tr>\n",
       "      <th>4</th>\n",
       "      <td>JSN</td>\n",
       "      <td>FB6W2YINKWE5</td>\n",
       "      <td>Insurance</td>\n",
       "      <td>0.04</td>\n",
       "      <td>0.37</td>\n",
       "      <td>0.95</td>\n",
       "      <td>NaN</td>\n",
       "      <td>NaN</td>\n",
       "      <td>0.94</td>\n",
       "      <td>0.02</td>\n",
       "      <td>0.13</td>\n",
       "      <td>0.93</td>\n",
       "      <td>0.32</td>\n",
       "      <td>0.79</td>\n",
       "      <td>0.87</td>\n",
       "      <td>0.97</td>\n",
       "      <td>0.14</td>\n",
       "    </tr>\n",
       "  </tbody>\n",
       "</table>\n",
       "</div>"
      ],
      "text/plain": [
       "  Ticker          Isin                        Industry   Co2  Totalwaste  \\\n",
       "0   JSJC  YACEFSEQB3A4                Office equipment  0.95         NaN   \n",
       "1   JSKE  QL6UOE2EJCJ9     Water and related utilities   NaN        0.17   \n",
       "2   JSKK  EGJL1NEBFRT2  Freight and logistics services  0.18        0.85   \n",
       "3   JSMD  OM9BJUQENP52                Leisure products  0.70         NaN   \n",
       "4    JSN  FB6W2YINKWE5                       Insurance  0.04        0.37   \n",
       "\n",
       "   Envproducts  Envrnd  Wateruse  Energyuse  Policyhumanrights  \\\n",
       "0          NaN     NaN      0.78       0.89               0.22   \n",
       "1         0.99    0.10      0.07        NaN               0.74   \n",
       "2          NaN    0.16      0.75       0.37                NaN   \n",
       "3         0.02    0.45      0.57        NaN               0.13   \n",
       "4         0.95     NaN       NaN       0.94               0.02   \n",
       "\n",
       "   Policyresponsiblemarketing  Productqualitymonitoring  Policydataprivacy  \\\n",
       "0                         NaN                       NaN               0.19   \n",
       "1                        0.18                      0.28               0.92   \n",
       "2                        0.53                      0.81               0.55   \n",
       "3                         NaN                      0.33               0.79   \n",
       "4                        0.13                      0.93               0.32   \n",
       "\n",
       "   Womenemployees  Avgtraininghours  Tradeunionrep  Lostdays  \n",
       "0            0.53              0.18           0.54      0.22  \n",
       "1            0.78              0.74           0.43      0.69  \n",
       "2            0.64              0.25           0.62      0.91  \n",
       "3            0.30              0.25           0.51      0.18  \n",
       "4            0.79              0.87           0.97      0.14  "
      ]
     },
     "execution_count": 6,
     "metadata": {},
     "output_type": "execute_result"
    }
   ],
   "source": [
    "source = pd.read_csv(file_name)\n",
    "source.head(5)"
   ]
  },
  {
   "cell_type": "code",
   "execution_count": 7,
   "id": "b762c3f6",
   "metadata": {
    "id": "b762c3f6",
    "tags": []
   },
   "outputs": [
    {
     "data": {
      "text/html": [
       "<div>\n",
       "<style scoped>\n",
       "    .dataframe tbody tr th:only-of-type {\n",
       "        vertical-align: middle;\n",
       "    }\n",
       "\n",
       "    .dataframe tbody tr th {\n",
       "        vertical-align: top;\n",
       "    }\n",
       "\n",
       "    .dataframe thead th {\n",
       "        text-align: right;\n",
       "    }\n",
       "</style>\n",
       "<table border=\"1\" class=\"dataframe\">\n",
       "  <thead>\n",
       "    <tr style=\"text-align: right;\">\n",
       "      <th></th>\n",
       "      <th>Ticker</th>\n",
       "      <th>Isin</th>\n",
       "      <th>Industry</th>\n",
       "      <th>Co2</th>\n",
       "      <th>Totalwaste</th>\n",
       "      <th>Envproducts</th>\n",
       "      <th>Envrnd</th>\n",
       "      <th>Wateruse</th>\n",
       "      <th>Energyuse</th>\n",
       "      <th>Policyhumanrights</th>\n",
       "      <th>Policyresponsiblemarketing</th>\n",
       "      <th>Productqualitymonitoring</th>\n",
       "      <th>Policydataprivacy</th>\n",
       "      <th>Womenemployees</th>\n",
       "      <th>Avgtraininghours</th>\n",
       "      <th>Tradeunionrep</th>\n",
       "      <th>Lostdays</th>\n",
       "    </tr>\n",
       "  </thead>\n",
       "  <tbody>\n",
       "    <tr>\n",
       "      <th>6482</th>\n",
       "      <td>ABNP</td>\n",
       "      <td>OTOY0BBKWAA1</td>\n",
       "      <td>Homebuilding and construction supplies</td>\n",
       "      <td>0.95</td>\n",
       "      <td>0.86</td>\n",
       "      <td>0.44</td>\n",
       "      <td>0.87</td>\n",
       "      <td>0.77</td>\n",
       "      <td>0.61</td>\n",
       "      <td>0.84</td>\n",
       "      <td>NaN</td>\n",
       "      <td>0.78</td>\n",
       "      <td>0.45</td>\n",
       "      <td>0.33</td>\n",
       "      <td>0.97</td>\n",
       "      <td>0.48</td>\n",
       "      <td>0.51</td>\n",
       "    </tr>\n",
       "  </tbody>\n",
       "</table>\n",
       "</div>"
      ],
      "text/plain": [
       "     Ticker          Isin                                Industry   Co2  \\\n",
       "6482   ABNP  OTOY0BBKWAA1  Homebuilding and construction supplies  0.95   \n",
       "\n",
       "      Totalwaste  Envproducts  Envrnd  Wateruse  Energyuse  Policyhumanrights  \\\n",
       "6482        0.86         0.44    0.87      0.77       0.61               0.84   \n",
       "\n",
       "      Policyresponsiblemarketing  Productqualitymonitoring  Policydataprivacy  \\\n",
       "6482                         NaN                      0.78               0.45   \n",
       "\n",
       "      Womenemployees  Avgtraininghours  Tradeunionrep  Lostdays  \n",
       "6482            0.33              0.97           0.48      0.51  "
      ]
     },
     "execution_count": 7,
     "metadata": {},
     "output_type": "execute_result"
    }
   ],
   "source": [
    "source = source[source['Ticker'] == input['ticker']]\n",
    "source"
   ]
  },
  {
   "cell_type": "code",
   "execution_count": 8,
   "id": "e32524c9",
   "metadata": {
    "id": "e32524c9",
    "tags": []
   },
   "outputs": [
    {
     "data": {
      "text/plain": [
       "{'Ticker': 'ABNP',\n",
       " 'ISIN': 'OTOY0BBKWAA1',\n",
       " 'Industry': 'Homebuilding and construction supplies'}"
      ]
     },
     "execution_count": 8,
     "metadata": {},
     "output_type": "execute_result"
    }
   ],
   "source": [
    "output_dict={}\n",
    "output_dict['Ticker'] = source['Ticker'].values[0]\n",
    "output_dict['ISIN'] = source['Isin'].values[0]\n",
    "output_dict['Industry'] = source['Industry'].values[0]\n",
    "output_dict"
   ]
  },
  {
   "cell_type": "code",
   "execution_count": 9,
   "id": "5a24e0b7",
   "metadata": {
    "id": "5a24e0b7",
    "tags": []
   },
   "outputs": [
    {
     "data": {
      "text/plain": [
       "array(['Co2', 'Totalwaste', 'Envproducts', 'Envrnd', 'Wateruse',\n",
       "       'Energyuse', 'Policyhumanrights', 'Policyresponsiblemarketing',\n",
       "       'Productqualitymonitoring', 'Policydataprivacy', 'Womenemployees',\n",
       "       'Avgtraininghours', 'Tradeunionrep', 'Lostdays'], dtype=object)"
      ]
     },
     "execution_count": 9,
     "metadata": {},
     "output_type": "execute_result"
    }
   ],
   "source": [
    "cols = source.columns.values\n",
    "cols = cols[3:]\n",
    "cols"
   ]
  },
  {
   "cell_type": "code",
   "execution_count": 10,
   "id": "7d826f57",
   "metadata": {
    "id": "7d826f57",
    "tags": []
   },
   "outputs": [
    {
     "data": {
      "text/plain": [
       "[{'Co2': 0.95},\n",
       " {'Totalwaste': 0.86},\n",
       " {'Envproducts': 0.44},\n",
       " {'Envrnd': 0.87},\n",
       " {'Wateruse': 0.77},\n",
       " {'Energyuse': 0.61},\n",
       " {'Policyhumanrights': 0.84},\n",
       " {'Policyresponsiblemarketing': nan},\n",
       " {'Productqualitymonitoring': 0.78},\n",
       " {'Policydataprivacy': 0.45},\n",
       " {'Womenemployees': 0.33},\n",
       " {'Avgtraininghours': 0.97},\n",
       " {'Tradeunionrep': 0.48},\n",
       " {'Lostdays': 0.51}]"
      ]
     },
     "execution_count": 10,
     "metadata": {},
     "output_type": "execute_result"
    }
   ],
   "source": [
    "property_list=[]\n",
    "for dimension in cols:\n",
    "    obj_dict={}\n",
    "    obj_dict[dimension] = source[dimension].values[0]\n",
    "    property_list.append(obj_dict)\n",
    "property_list"
   ]
  },
  {
   "cell_type": "code",
   "execution_count": 11,
   "id": "9d892c02",
   "metadata": {
    "id": "9d892c02",
    "tags": []
   },
   "outputs": [
    {
     "data": {
      "text/plain": [
       "{'Ticker': 'ABNP',\n",
       " 'ISIN': 'OTOY0BBKWAA1',\n",
       " 'Industry': 'Homebuilding and construction supplies',\n",
       " 'ESG_properties': [{'Co2': 0.95},\n",
       "  {'Totalwaste': 0.86},\n",
       "  {'Envproducts': 0.44},\n",
       "  {'Envrnd': 0.87},\n",
       "  {'Wateruse': 0.77},\n",
       "  {'Energyuse': 0.61},\n",
       "  {'Policyhumanrights': 0.84},\n",
       "  {'Policyresponsiblemarketing': nan},\n",
       "  {'Productqualitymonitoring': 0.78},\n",
       "  {'Policydataprivacy': 0.45},\n",
       "  {'Womenemployees': 0.33},\n",
       "  {'Avgtraininghours': 0.97},\n",
       "  {'Tradeunionrep': 0.48},\n",
       "  {'Lostdays': 0.51}]}"
      ]
     },
     "execution_count": 11,
     "metadata": {},
     "output_type": "execute_result"
    }
   ],
   "source": [
    "output_dict[\"ESG_properties\"] = property_list\n",
    "output_dict"
   ]
  },
  {
   "cell_type": "code",
   "execution_count": 12,
   "id": "5bb86f8c",
   "metadata": {
    "id": "5bb86f8c",
    "tags": []
   },
   "outputs": [
    {
     "data": {
      "text/plain": [
       "'{\"Ticker\": \"ABNP\", \"ISIN\": \"OTOY0BBKWAA1\", \"Industry\": \"Homebuilding and construction supplies\", \"ESG_properties\": [{\"Co2\": 0.95}, {\"Totalwaste\": 0.86}, {\"Envproducts\": 0.44}, {\"Envrnd\": 0.87}, {\"Wateruse\": 0.77}, {\"Energyuse\": 0.61}, {\"Policyhumanrights\": 0.84}, {\"Policyresponsiblemarketing\": NaN}, {\"Productqualitymonitoring\": 0.78}, {\"Policydataprivacy\": 0.45}, {\"Womenemployees\": 0.33}, {\"Avgtraininghours\": 0.97}, {\"Tradeunionrep\": 0.48}, {\"Lostdays\": 0.51}]}'"
      ]
     },
     "execution_count": 12,
     "metadata": {},
     "output_type": "execute_result"
    }
   ],
   "source": [
    "jsonString = json.dumps(output_dict)\n",
    "jsonString"
   ]
  },
  {
   "cell_type": "code",
   "execution_count": 13,
   "id": "fbdce6b6",
   "metadata": {
    "id": "fbdce6b6",
    "tags": []
   },
   "outputs": [],
   "source": [
    " # Writing to sample.json\n",
    "with open(output, \"w\") as outfile:\n",
    "    outfile.write(jsonString)"
   ]
  },
  {
   "cell_type": "code",
   "execution_count": null,
   "id": "0368b76b",
   "metadata": {
    "id": "0368b76b"
   },
   "outputs": [],
   "source": []
  }
 ],
 "metadata": {
  "celltoolbar": "Tags",
  "kernelspec": {
   "display_name": "Python 3.10",
   "language": "python",
   "name": "python3"
  },
  "language_info": {
   "codemirror_mode": {
    "name": "ipython",
    "version": 3
   },
   "file_extension": ".py",
   "mimetype": "text/x-python",
   "name": "python",
   "nbconvert_exporter": "python",
   "pygments_lexer": "ipython3",
   "version": "3.10.13"
  },
  "vscode": {
   "interpreter": {
    "hash": "b0fa6594d8f4cbf19f97940f81e996739fb7646882a419484c72d19e05852a7e"
   }
  }
 },
 "nbformat": 4,
 "nbformat_minor": 5
}
