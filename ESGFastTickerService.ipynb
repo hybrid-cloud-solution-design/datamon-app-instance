{
 "cells": [
  {
   "cell_type": "code",
   "execution_count": 1,
   "id": "46f25ef6",
   "metadata": {
    "id": "46f25ef6",
    "tags": []
   },
   "outputs": [],
   "source": [
    "import json\n",
    "import pandas as pd\n",
    "import numpy as np\n",
    "import os\n",
    "\n",
    "from sqlalchemy.engine import create_engine\n",
    "\n",
    "from minio import Minio\n",
    "from minio.error import S3Error"
   ]
  },
  {
   "cell_type": "code",
   "execution_count": 2,
   "id": "320cb67c-6b98-4e93-a24c-d6c492bae13d",
   "metadata": {
    "id": "320cb67c-6b98-4e93-a24c-d6c492bae13d",
    "tags": []
   },
   "outputs": [],
   "source": [
    "# COS_API_KEY_ID = os.environ.get(\"COS_API_KEY_ID\", \"none\")\n",
    "COS_ENDPOINT = os.environ.get(\"COS_ENDPOINT\", \"ibm-lh-lakehouse-minio-svc.cpd.svc.cluster.local:9000\")\n",
    "COS_ACCESS_KEY = os.environ.get(\"COS_ACCESS_KEY\", \"none\")\n",
    "COS_SECRET_KEY = os.environ.get(\"COS_SECRET_KEY\", \"none\")\n",
    "\n",
    "\n",
    "\n",
    "# print(\"key: \" + COS_API_KEY_ID)\n",
    "# if COS_API_KEY_ID == \"none\":\n",
    "#     print(\"No COS API KEY!!\")\n",
    "#     #for name, value in os.environ.items():\n",
    "#     #    print(\"{0}: {1}\".format(name, value))"
   ]
  },
  {
   "cell_type": "code",
   "execution_count": 3,
   "id": "6081d03a-87f2-48b5-a6ac-901410832839",
   "metadata": {
    "id": "6081d03a-87f2-48b5-a6ac-901410832839",
    "tags": []
   },
   "outputs": [],
   "source": [
    "# ibm s3\n",
    "# import ibm_boto3\n",
    "# from ibm_botocore.client import Config, ClientError"
   ]
  },
  {
   "cell_type": "code",
   "execution_count": 25,
   "id": "8898e5a7",
   "metadata": {
    "id": "8898e5a7",
    "tags": [
     "parameters"
    ]
   },
   "outputs": [],
   "source": [
    "# Parameters\n",
    "\n",
    "description=\"Return all the ESG dimensions for a single portfolio ticker\"\n",
    "\n",
    "output=\"output.json\"\n",
    "\n",
    "input={\"ticker\": \"AAA\"}\n",
    "\n",
    "results={\"Ticker\": \"ABNP\",\n",
    "         \"ISIN\": \"OTOY0BBKWAA1\",\n",
    "         \"Industry\": \"Homebuilding and construction supplies\",\n",
    "         \"ESG_properties\": [\n",
    "             {\"C02\": 0.59},\n",
    "             {\"TotalWaste\": 0.86}, \n",
    "             {\"EnvProducts\": None}, \n",
    "             {\"EnvRND\": 0.87}, \n",
    "             {\"WaterUse\": 0.77}, \n",
    "             {\"EnergyUse\": 0.61}, \n",
    "             {\"PolicyHumanRights\": 0.84}, \n",
    "             {\"PolicyResponsibleMarketing\": None}, \n",
    "             {\"ProductQualityMonitoring\": None}, \n",
    "             {\"PolicyDataPrivacy\": 0.45}, \n",
    "             {\"WomenEmployees\": 0.33}, \n",
    "             {\"AvgTrainingHours\": 0.97}, \n",
    "             {\"TradeUnionRep\": 0.48}, \n",
    "             {\"LostDays\": 0.51}]}"
   ]
  },
  {
   "cell_type": "markdown",
   "id": "6bea5885",
   "metadata": {
    "id": "6bea5885"
   },
   "source": [
    "Test curl post:\n",
    "\n",
    "    curl -X POST https://datamon.15nwk2ygtk89.eu-de.codeengine.appdomain.cloud/api/ESGFastTickerService -H 'Content-Type: application/json' -d '{\"portfolio\": \"ABNF\"}'"
   ]
  },
  {
   "cell_type": "code",
   "execution_count": 26,
   "id": "aea88137-6e10-416a-95b0-2ee2bb5e48f7",
   "metadata": {
    "id": "aea88137-6e10-416a-95b0-2ee2bb5e48f7",
    "tags": []
   },
   "outputs": [
    {
     "data": {
      "text/plain": [
       "'AAA'"
      ]
     },
     "execution_count": 26,
     "metadata": {},
     "output_type": "execute_result"
    }
   ],
   "source": [
    "ticker_param = input['ticker']\n",
    "ticker_param"
   ]
  },
  {
   "cell_type": "code",
   "execution_count": 27,
   "id": "736dd424-2d71-47ed-b142-6da4c7326031",
   "metadata": {
    "id": "736dd424-2d71-47ed-b142-6da4c7326031",
    "tags": []
   },
   "outputs": [
    {
     "name": "stdout",
     "output_type": "stream",
     "text": [
      "CPU times: user 333 ms, sys: 34.5 ms, total: 368 ms\n",
      "Wall time: 3.04 s\n"
     ]
    }
   ],
   "source": [
    "# read data from presto engine\n",
    "LH_ENDPOINT = os.environ.get(\"LH_ENDPOINT\", \"ibm-lh-lakehouse-presto-01-presto-svc.cp4d.svc.cluster.local:8443\")\n",
    "LH_USER = os.environ.get(\"LH_USER\", \"none\")\n",
    "LH_PASSWORD = os.environ.get(\"LH_PASSWORD\", \"none\")\n",
    "LH_CATALOG = os.environ.get(\"LH_CATALOG\", \"delivery\")\n",
    "LH_SCHEMA = os.environ.get(\"LH_SCHEMA\", \"provider_a\")\n",
    "LH_PROTOCOL = os.environ.get(\"LH_PROTOCOL\", \"https\")\n",
    "\n",
    "url = \"presto://\" + LH_USER + \":\" + LH_PASSWORD + \"@\" + LH_ENDPOINT + \"/\" + LH_CATALOG + \"/\" + LH_SCHEMA\n",
    "url \n",
    "engine = create_engine(url, connect_args={'protocol': LH_PROTOCOL})\n",
    "conn = engine.connect()\n",
    "\n",
    "select_stmt = \"\"\"\n",
    "SELECT\n",
    "  *\n",
    "FROM\n",
    "  \"esg_consolidated\"\n",
    " WHERE\n",
    "  \"Ticker\" = %s\n",
    "\"\"\"\n",
    "%time source = pd.read_sql_query(select_stmt, con=engine, params=[ticker_param])\n",
    "\n"
   ]
  },
  {
   "cell_type": "code",
   "execution_count": 28,
   "id": "9314c3f5-1b3f-42fe-8e51-adccf7679c36",
   "metadata": {
    "id": "9314c3f5-1b3f-42fe-8e51-adccf7679c36",
    "tags": []
   },
   "outputs": [
    {
     "data": {
      "text/html": [
       "<div>\n",
       "<style scoped>\n",
       "    .dataframe tbody tr th:only-of-type {\n",
       "        vertical-align: middle;\n",
       "    }\n",
       "\n",
       "    .dataframe tbody tr th {\n",
       "        vertical-align: top;\n",
       "    }\n",
       "\n",
       "    .dataframe thead th {\n",
       "        text-align: right;\n",
       "    }\n",
       "</style>\n",
       "<table border=\"1\" class=\"dataframe\">\n",
       "  <thead>\n",
       "    <tr style=\"text-align: right;\">\n",
       "      <th></th>\n",
       "      <th>Ticker</th>\n",
       "      <th>Isin</th>\n",
       "      <th>Industry</th>\n",
       "      <th>Co2</th>\n",
       "      <th>Totalwaste</th>\n",
       "      <th>Envproducts</th>\n",
       "      <th>Envrnd</th>\n",
       "      <th>Wateruse</th>\n",
       "      <th>Energyuse</th>\n",
       "      <th>Policyhumanrights</th>\n",
       "      <th>Policyresponsiblemarketing</th>\n",
       "      <th>Productqualitymonitoring</th>\n",
       "      <th>Policydataprivacy</th>\n",
       "      <th>Womenemployees</th>\n",
       "      <th>Avgtraininghours</th>\n",
       "      <th>Tradeunionrep</th>\n",
       "      <th>Lostdays</th>\n",
       "    </tr>\n",
       "  </thead>\n",
       "  <tbody>\n",
       "    <tr>\n",
       "      <th>0</th>\n",
       "      <td>AAA</td>\n",
       "      <td>XXXXXXXXXX</td>\n",
       "      <td>Uranium</td>\n",
       "      <td>0.72</td>\n",
       "      <td>0.69</td>\n",
       "      <td>0.56</td>\n",
       "      <td>0.09</td>\n",
       "      <td>0.98</td>\n",
       "      <td>0.21</td>\n",
       "      <td>0.9</td>\n",
       "      <td>NaN</td>\n",
       "      <td>0.53</td>\n",
       "      <td>0.99</td>\n",
       "      <td>0.06</td>\n",
       "      <td>0</td>\n",
       "      <td>0.92</td>\n",
       "      <td>0.95</td>\n",
       "    </tr>\n",
       "    <tr>\n",
       "      <th>1</th>\n",
       "      <td>AAA</td>\n",
       "      <td>XXXXXXXXXX</td>\n",
       "      <td>Oil and gas related equipment and services</td>\n",
       "      <td>NaN</td>\n",
       "      <td>0.58</td>\n",
       "      <td>0.48</td>\n",
       "      <td>0.91</td>\n",
       "      <td>0.11</td>\n",
       "      <td>NaN</td>\n",
       "      <td>NaN</td>\n",
       "      <td>0.77</td>\n",
       "      <td>0.08</td>\n",
       "      <td>0.39</td>\n",
       "      <td>0.89</td>\n",
       "      <td>0</td>\n",
       "      <td>0.74</td>\n",
       "      <td>0.39</td>\n",
       "    </tr>\n",
       "  </tbody>\n",
       "</table>\n",
       "</div>"
      ],
      "text/plain": [
       "  Ticker        Isin                                    Industry   Co2  \\\n",
       "0    AAA  XXXXXXXXXX                                     Uranium  0.72   \n",
       "1    AAA  XXXXXXXXXX  Oil and gas related equipment and services   NaN   \n",
       "\n",
       "   Totalwaste  Envproducts  Envrnd  Wateruse  Energyuse  Policyhumanrights  \\\n",
       "0        0.69         0.56    0.09      0.98       0.21                0.9   \n",
       "1        0.58         0.48    0.91      0.11        NaN                NaN   \n",
       "\n",
       "   Policyresponsiblemarketing  Productqualitymonitoring  Policydataprivacy  \\\n",
       "0                         NaN                      0.53               0.99   \n",
       "1                        0.77                      0.08               0.39   \n",
       "\n",
       "   Womenemployees  Avgtraininghours  Tradeunionrep  Lostdays  \n",
       "0            0.06                 0           0.92      0.95  \n",
       "1            0.89                 0           0.74      0.39  "
      ]
     },
     "execution_count": 28,
     "metadata": {},
     "output_type": "execute_result"
    }
   ],
   "source": [
    "source.head(5)"
   ]
  },
  {
   "cell_type": "code",
   "execution_count": 29,
   "id": "bb282395-6094-41de-8b68-5a4c0c6bc18f",
   "metadata": {
    "id": "bb282395-6094-41de-8b68-5a4c0c6bc18f",
    "tags": []
   },
   "outputs": [],
   "source": [
    "# Constants for IBM COS values\n",
    "# COS_ENDPOINT = \"https://s3.us-east.cloud-object-storage.appdomain.cloud\" # Current list avaiable at https://control.cloud-object-storage.cloud.ibm.com/v2/endpoints\n",
    "#COS_API_KEY_ID = # <api-key> eg \"W00YixxxxxxxxxxMB-odB-2ySfTrFBIQQWanc--P3byk\"\n",
    "# COS_INSTANCE_CRN = \"crn:v1:bluemix:public:cloud-object-storage:global:a/b71ac2564ef0b98f1032d189795994dc:f7e4281d-a7f2-4923-8e6b-07f99ac93bbd::\" # <service-instance-id> eg \"crn:v1:bluemix:public:cloud-object-storage:global:a/3bf0d9003xxxxxxxxxx1c3e97696b71c:d6f04d83-6c4f-4a62-a165-696756d63903::\"\n",
    "\n",
    "# Create client \n",
    "# s3_client = ibm_boto3.client(\"s3\",\n",
    "#     ibm_api_key_id=COS_API_KEY_ID,\n",
    "#     ibm_service_instance_id=COS_INSTANCE_CRN,\n",
    "#     config=Config(signature_version=\"oauth\"),\n",
    "#     endpoint_url=COS_ENDPOINT\n",
    "# )\n",
    "\n",
    "# COS_ENDPOINT='ibm-lh-lakehouse-minio-svc.cpd.svc.cluster.local:9000'\n",
    "\n",
    "# minio_client = Minio(\n",
    "#     endpoint=COS_ENDPOINT,\n",
    "#     secure=False,\n",
    "#     access_key=COS_ACCESS_KEY,\n",
    "#     secret_key=COS_SECRET_KEY\n",
    "# )\n",
    "\n",
    "\n",
    "# file_name = \"provider_a/ESG-consolidated.csv\"\n",
    "# bucket = \"delivery\"\n",
    "\n",
    "\n",
    "\n",
    "\n",
    "# print(\"Retrieving item from bucket: {0}, key: {1}\".format(bucket, file_name))\n",
    "# try:\n",
    "#     minio_client.fget_object(bucket, file_name,file_name)\n",
    "# except S3Error as e:\n",
    "#     e\n"
   ]
  },
  {
   "cell_type": "code",
   "execution_count": 30,
   "id": "fa949bca",
   "metadata": {
    "id": "fa949bca",
    "tags": []
   },
   "outputs": [],
   "source": [
    "# source = pd.read_csv(file_name)\n",
    "# source.head(5)"
   ]
  },
  {
   "cell_type": "code",
   "execution_count": 31,
   "id": "b762c3f6",
   "metadata": {
    "id": "b762c3f6",
    "tags": []
   },
   "outputs": [],
   "source": [
    "# source = source[source['Ticker'] == input['ticker']]\n",
    "# source"
   ]
  },
  {
   "cell_type": "code",
   "execution_count": 32,
   "id": "e32524c9",
   "metadata": {
    "id": "e32524c9",
    "tags": []
   },
   "outputs": [
    {
     "data": {
      "text/plain": [
       "{'Ticker': 'AAA', 'ISIN': 'XXXXXXXXXX', 'Industry': 'Uranium'}"
      ]
     },
     "execution_count": 32,
     "metadata": {},
     "output_type": "execute_result"
    }
   ],
   "source": [
    "output_dict={}\n",
    "output_dict['Ticker'] = source['Ticker'].values[0]\n",
    "output_dict['ISIN'] = source['Isin'].values[0]\n",
    "output_dict['Industry'] = source['Industry'].values[0]\n",
    "output_dict"
   ]
  },
  {
   "cell_type": "code",
   "execution_count": 33,
   "id": "5a24e0b7",
   "metadata": {
    "id": "5a24e0b7",
    "tags": []
   },
   "outputs": [
    {
     "data": {
      "text/plain": [
       "array(['Co2', 'Totalwaste', 'Envproducts', 'Envrnd', 'Wateruse',\n",
       "       'Energyuse', 'Policyhumanrights', 'Policyresponsiblemarketing',\n",
       "       'Productqualitymonitoring', 'Policydataprivacy', 'Womenemployees',\n",
       "       'Avgtraininghours', 'Tradeunionrep', 'Lostdays'], dtype=object)"
      ]
     },
     "execution_count": 33,
     "metadata": {},
     "output_type": "execute_result"
    }
   ],
   "source": [
    "cols = source.columns.values\n",
    "cols = cols[3:]\n",
    "cols"
   ]
  },
  {
   "cell_type": "code",
   "execution_count": 34,
   "id": "7d826f57",
   "metadata": {
    "id": "7d826f57",
    "tags": []
   },
   "outputs": [
    {
     "data": {
      "text/plain": [
       "[{'Co2': 0.72},\n",
       " {'Totalwaste': 0.69},\n",
       " {'Envproducts': 0.56},\n",
       " {'Envrnd': 0.09},\n",
       " {'Wateruse': 0.98},\n",
       " {'Energyuse': 0.21},\n",
       " {'Policyhumanrights': 0.9},\n",
       " {'Policyresponsiblemarketing': nan},\n",
       " {'Productqualitymonitoring': 0.53},\n",
       " {'Policydataprivacy': 0.99},\n",
       " {'Womenemployees': 0.06},\n",
       " {'Avgtraininghours': 0},\n",
       " {'Tradeunionrep': 0.92},\n",
       " {'Lostdays': 0.95}]"
      ]
     },
     "execution_count": 34,
     "metadata": {},
     "output_type": "execute_result"
    }
   ],
   "source": [
    "property_list=[]\n",
    "for dimension in cols:\n",
    "    obj_dict={}\n",
    "    obj_dict[dimension] = source[dimension].values[0]\n",
    "    property_list.append(obj_dict)\n",
    "property_list"
   ]
  },
  {
   "cell_type": "code",
   "execution_count": 35,
   "id": "9d892c02",
   "metadata": {
    "id": "9d892c02",
    "tags": []
   },
   "outputs": [
    {
     "data": {
      "text/plain": [
       "{'Ticker': 'AAA',\n",
       " 'ISIN': 'XXXXXXXXXX',\n",
       " 'Industry': 'Uranium',\n",
       " 'ESG_properties': [{'Co2': 0.72},\n",
       "  {'Totalwaste': 0.69},\n",
       "  {'Envproducts': 0.56},\n",
       "  {'Envrnd': 0.09},\n",
       "  {'Wateruse': 0.98},\n",
       "  {'Energyuse': 0.21},\n",
       "  {'Policyhumanrights': 0.9},\n",
       "  {'Policyresponsiblemarketing': nan},\n",
       "  {'Productqualitymonitoring': 0.53},\n",
       "  {'Policydataprivacy': 0.99},\n",
       "  {'Womenemployees': 0.06},\n",
       "  {'Avgtraininghours': 0},\n",
       "  {'Tradeunionrep': 0.92},\n",
       "  {'Lostdays': 0.95}]}"
      ]
     },
     "execution_count": 35,
     "metadata": {},
     "output_type": "execute_result"
    }
   ],
   "source": [
    "output_dict[\"ESG_properties\"] = property_list\n",
    "output_dict"
   ]
  },
  {
   "cell_type": "code",
   "execution_count": 36,
   "id": "5bb86f8c",
   "metadata": {
    "id": "5bb86f8c",
    "tags": []
   },
   "outputs": [
    {
     "data": {
      "text/plain": [
       "'{\"Ticker\": \"AAA\", \"ISIN\": \"XXXXXXXXXX\", \"Industry\": \"Uranium\", \"ESG_properties\": [{\"Co2\": 0.72}, {\"Totalwaste\": 0.69}, {\"Envproducts\": 0.56}, {\"Envrnd\": 0.09}, {\"Wateruse\": 0.98}, {\"Energyuse\": 0.21}, {\"Policyhumanrights\": 0.9}, {\"Policyresponsiblemarketing\": NaN}, {\"Productqualitymonitoring\": 0.53}, {\"Policydataprivacy\": 0.99}, {\"Womenemployees\": 0.06}, {\"Avgtraininghours\": \"0\"}, {\"Tradeunionrep\": 0.92}, {\"Lostdays\": 0.95}]}'"
      ]
     },
     "execution_count": 36,
     "metadata": {},
     "output_type": "execute_result"
    }
   ],
   "source": [
    "jsonString = json.dumps(output_dict, default=str)\n",
    "jsonString"
   ]
  },
  {
   "cell_type": "code",
   "execution_count": 37,
   "id": "fbdce6b6",
   "metadata": {
    "id": "fbdce6b6",
    "tags": []
   },
   "outputs": [],
   "source": [
    " # Writing to sample.json\n",
    "with open(output, \"w\") as outfile:\n",
    "    outfile.write(jsonString)"
   ]
  },
  {
   "cell_type": "code",
   "execution_count": null,
   "id": "0368b76b",
   "metadata": {
    "id": "0368b76b"
   },
   "outputs": [],
   "source": []
  }
 ],
 "metadata": {
  "celltoolbar": "Tags",
  "kernelspec": {
   "display_name": "Python 3.10",
   "language": "python",
   "name": "python3"
  },
  "language_info": {
   "codemirror_mode": {
    "name": "ipython",
    "version": 3
   },
   "file_extension": ".py",
   "mimetype": "text/x-python",
   "name": "python",
   "nbconvert_exporter": "python",
   "pygments_lexer": "ipython3",
   "version": "3.10.13"
  },
  "vscode": {
   "interpreter": {
    "hash": "b0fa6594d8f4cbf19f97940f81e996739fb7646882a419484c72d19e05852a7e"
   }
  }
 },
 "nbformat": 4,
 "nbformat_minor": 5
}
